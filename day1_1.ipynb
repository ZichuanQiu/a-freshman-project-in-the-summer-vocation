{
 "cells": [
  {
   "cell_type": "code",
   "execution_count": 2,
   "metadata": {},
   "outputs": [
    {
     "data": {
      "text/plain": [
       "300"
      ]
     },
     "execution_count": 2,
     "metadata": {},
     "output_type": "execute_result"
    }
   ],
   "source": [
    "100+200"
   ]
  },
  {
   "cell_type": "code",
   "execution_count": 9,
   "metadata": {},
   "outputs": [
    {
     "name": "stdout",
     "output_type": "stream",
     "text": [
      "高考620 awful\n"
     ]
    }
   ],
   "source": [
    "print(\"高考620\",\"awful\")"
   ]
  },
  {
   "cell_type": "code",
   "execution_count": 10,
   "metadata": {},
   "outputs": [
    {
     "name": "stdout",
     "output_type": "stream",
     "text": [
      "3.1415926535\n"
     ]
    }
   ],
   "source": [
    "pi=input()"
   ]
  },
  {
   "cell_type": "code",
   "execution_count": 13,
   "metadata": {},
   "outputs": [
    {
     "name": "stdout",
     "output_type": "stream",
     "text": [
      "3.1415926535\n"
     ]
    }
   ],
   "source": [
    "v=pi\n",
    "print(v)"
   ]
  },
  {
   "cell_type": "code",
   "execution_count": 15,
   "metadata": {},
   "outputs": [
    {
     "name": "stdout",
     "output_type": "stream",
     "text": [
      "i'm \"ok\"\n"
     ]
    }
   ],
   "source": [
    "print('i\\'m \\\"ok\\\"')"
   ]
  },
  {
   "cell_type": "code",
   "execution_count": 38,
   "metadata": {},
   "outputs": [
    {
     "name": "stdout",
     "output_type": "stream",
     "text": [
      "n=123\n",
      "f=456.789\n",
      "s1='hello,world'\n",
      "s2='hello,\\'adam\\'\n",
      "s3=r'hello, \"bart\"'\n",
      "s4=r'''hello,\n",
      "Lisa!\n"
     ]
    }
   ],
   "source": [
    "print('''n=123\n",
    "... f=456.789\n",
    "... s1=\\'hello,world\\'\n",
    "... s2=\\'hello,\\\\\\'adam\\\\\\'\n",
    "... s3=r\\'hello, \\\"bart\\\"\\'\n",
    "... s4=r\\'\\'\\'hello,\\nLisa!''')"
   ]
  },
  {
   "cell_type": "code",
   "execution_count": 22,
   "metadata": {},
   "outputs": [
    {
     "name": "stdout",
     "output_type": "stream",
     "text": [
      "line1                                      \n",
      "line2                                               \n",
      "line3\n"
     ]
    }
   ],
   "source": [
    "print('''line1                                      \n",
    "... line2                                               \n",
    "... line3''')  "
   ]
  },
  {
   "cell_type": "code",
   "execution_count": null,
   "metadata": {},
   "outputs": [],
   "source": []
  }
 ],
 "metadata": {
  "kernelspec": {
   "display_name": "Python 3",
   "language": "python",
   "name": "python3"
  },
  "language_info": {
   "codemirror_mode": {
    "name": "ipython",
    "version": 3
   },
   "file_extension": ".py",
   "mimetype": "text/x-python",
   "name": "python",
   "nbconvert_exporter": "python",
   "pygments_lexer": "ipython3",
   "version": "3.7.6"
  }
 },
 "nbformat": 4,
 "nbformat_minor": 4
}
