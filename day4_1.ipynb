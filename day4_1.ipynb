{
 "cells": [
  {
   "cell_type": "code",
   "execution_count": 10,
   "metadata": {},
   "outputs": [
    {
     "name": "stdout",
     "output_type": "stream",
     "text": [
      "你的身高是(m)1.72\n",
      "你的体重是(kg)68\n",
      "你的bmi是 23.0\n",
      "正常\n"
     ]
    }
   ],
   "source": [
    "\n",
    "height = input('你的身高是(m)')\n",
    "weight = input('你的体重是(kg)')\n",
    "h=float(height)\n",
    "w=float(weight)\n",
    "bmi=w/ (h*h)\n",
    "print('你的bmi是','%.1f'%(bmi,))\n",
    "if bmi >32:\n",
    "    print('严重肥胖')\n",
    "elif bmi >28:\n",
    "    print('肥胖')\n",
    "elif bmi >25:\n",
    "    print('过重')\n",
    "elif bmi >18.5:\n",
    "    print('正常')\n",
    "else:\n",
    "    print('过轻')"
   ]
  },
  {
   "cell_type": "code",
   "execution_count": null,
   "metadata": {},
   "outputs": [],
   "source": []
  }
 ],
 "metadata": {
  "kernelspec": {
   "display_name": "Python 3",
   "language": "python",
   "name": "python3"
  },
  "language_info": {
   "codemirror_mode": {
    "name": "ipython",
    "version": 3
   },
   "file_extension": ".py",
   "mimetype": "text/x-python",
   "name": "python",
   "nbconvert_exporter": "python",
   "pygments_lexer": "ipython3",
   "version": "3.7.6"
  }
 },
 "nbformat": 4,
 "nbformat_minor": 4
}
